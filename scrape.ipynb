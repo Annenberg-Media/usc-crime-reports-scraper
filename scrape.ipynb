{
 "cells": [
  {
   "cell_type": "code",
   "execution_count": 1,
   "id": "b754ce08-0372-4384-8328-d7bf344d3552",
   "metadata": {},
   "outputs": [],
   "source": [
    "import os\n",
    "import time\n",
    "import typing\n",
    "import requests\n",
    "import pandas as pd\n",
    "from pathlib import Path\n",
    "from retry import retry\n",
    "from datetime import datetime\n",
    "from documentcloud import DocumentCloud\n",
    "from documentcloud.exceptions import APIError"
   ]
  },
  {
   "cell_type": "markdown",
   "id": "41719d3a-50b3-4f70-8712-49aa607b68a5",
   "metadata": {},
   "source": [
    "Create a date from the earliest PDF until today"
   ]
  },
  {
   "cell_type": "code",
   "execution_count": 29,
   "id": "aa6cf8c0-fb4f-4395-ba62-5a002d8e396e",
   "metadata": {},
   "outputs": [],
   "source": [
    "start_date = datetime(2015, 9, 1)"
   ]
  },
  {
   "cell_type": "code",
   "execution_count": 30,
   "id": "59f6acff-4fc5-47b2-9946-2674f8521df8",
   "metadata": {},
   "outputs": [],
   "source": [
    "end_date = datetime.today().date()"
   ]
  },
  {
   "cell_type": "code",
   "execution_count": 31,
   "id": "d7454f52-80e0-4e34-93f5-c530b4c15d46",
   "metadata": {},
   "outputs": [],
   "source": [
    "date_list = pd.date_range(start_date, end_date).tolist()"
   ]
  },
  {
   "cell_type": "code",
   "execution_count": 14,
   "id": "1226c01d-4d0f-4d91-9527-58f7510f30ee",
   "metadata": {},
   "outputs": [],
   "source": [
    "def format_pdf_url(dt):\n",
    "    \"\"\"Format the provided datetime to fit the PDF URL expected on our source.\"\"\"\n",
    "    return f'https://dps.usc.edu/wp-content/uploads/{dt.strftime(\"%Y\")}/{dt.strftime(\"%m\")}/{dt.strftime(\"%m%d%y\")}.pdf'"
   ]
  },
  {
   "cell_type": "code",
   "execution_count": 25,
   "id": "81ba5e1e-90d3-4c56-a088-9638be710db8",
   "metadata": {},
   "outputs": [],
   "source": [
    "def download_url(url: str, output_path: Path, timeout: int = 180):\n",
    "    \"\"\"Download the provided URL to the provided path.\"\"\"\n",
    "    with requests.get(url, stream=True, timeout=timeout) as r:\n",
    "        if r.status_code == 404:\n",
    "            print(f\"404: {url}\")\n",
    "            return\n",
    "        with open(output_path, \"wb\") as f:\n",
    "            for chunk in r.iter_content(chunk_size=8192):\n",
    "                f.write(chunk)"
   ]
  },
  {
   "cell_type": "code",
   "execution_count": 2,
   "id": "a72600ec-5f6c-489e-a003-88b25033f0f7",
   "metadata": {},
   "outputs": [],
   "source": [
    "output_dir = Path(\"./input\")"
   ]
  },
  {
   "cell_type": "code",
   "execution_count": 3,
   "id": "0eccc8d6-4d5e-47ea-b34f-486df8fcbd53",
   "metadata": {},
   "outputs": [],
   "source": [
    "output_dir.mkdir(parents=True, exist_ok=True)"
   ]
  },
  {
   "cell_type": "code",
   "execution_count": null,
   "id": "756751f0-dfdd-46c6-acaa-70cee039bffa",
   "metadata": {},
   "outputs": [],
   "source": [
    "for dt in date_list:\n",
    "    pdf_name = f'{dt.strftime(\"%m%d%y\")}.pdf'\n",
    "    pdf_path = output_dir / pdf_name\n",
    "    if pdf_path.exists():\n",
    "        print(f\"{pdf_name} exists. Skipping.\")\n",
    "    else:\n",
    "        print(f\"Downloading {pdf_name}\")\n",
    "        pdf_url = format_pdf_url(dt)\n",
    "        download_url(pdf_url, pdf_path)\n",
    "        time.sleep(0.25)"
   ]
  },
  {
   "cell_type": "code",
   "execution_count": 14,
   "id": "a34cf8fc-fc21-4791-afca-587aeb27088f",
   "metadata": {},
   "outputs": [],
   "source": [
    "def upload_pdf(pdf_name: str) -> tuple[typing.Optional[str], bool]:\n",
    "    \"\"\"Upload the provided object's PDF to DocumentCloud.\n",
    "\n",
    "    Returns a tuple with the URL to the document and a boolean that indicates if it was uploaded (True) or if it already existed (False).\n",
    "    \"\"\"\n",
    "    # Get PDF path\n",
    "    pdf_path = output_dir / pdf_name\n",
    "    assert pdf_path.exists()\n",
    "\n",
    "    # Connect to DocumentCloud\n",
    "    client = DocumentCloud(\n",
    "        os.getenv(\"DOCUMENTCLOUD_USER\"), os.getenv(\"DOCUMENTCLOUD_PASSWORD\")\n",
    "    )\n",
    "\n",
    "    # Search to see if it's already up there\n",
    "    query = f\"+project:usc-department-of-public--210827 AND data_uid:{pdf_name}\"\n",
    "    search = client.documents.search(query)\n",
    "\n",
    "    # If it is, we're done\n",
    "    if len(list(search)) > 0:\n",
    "        return search[0].canonical_url, False\n",
    "\n",
    "    # If it isn't, upload it now\n",
    "    print(f\"☁️ Uploading {pdf_path}\")\n",
    "    try:\n",
    "        document = client.documents.upload(\n",
    "            pdf_path,\n",
    "            title=f\"{pdf_name.replace('.pdf', '')}\",\n",
    "            project=\"210827\",\n",
    "            access=\"public\",\n",
    "            data={\"uid\": pdf_name},\n",
    "        )\n",
    "        return document.canonical_url, True\n",
    "    except APIError:\n",
    "        return None, False"
   ]
  },
  {
   "cell_type": "code",
   "execution_count": 15,
   "id": "c67c7778-c5a7-4a2a-9bbb-e029dc7c1a19",
   "metadata": {},
   "outputs": [
    {
     "data": {
      "text/plain": [
       "('https://www.documentcloud.org/documents/23346558-120222pdf', False)"
      ]
     },
     "execution_count": 15,
     "metadata": {},
     "output_type": "execute_result"
    }
   ],
   "source": [
    "upload_pdf(\"120222.pdf\")"
   ]
  },
  {
   "cell_type": "code",
   "execution_count": null,
   "id": "b0e27cbf-8b26-4c03-b9d7-b422281a2884",
   "metadata": {},
   "outputs": [
    {
     "name": "stdout",
     "output_type": "stream",
     "text": [
      "☁️ Uploading input/061818.pdf\n",
      "☁️ Uploading input/020921.pdf\n",
      "☁️ Uploading input/041917.pdf\n",
      "☁️ Uploading input/051321.pdf\n",
      "☁️ Uploading input/031621.pdf\n",
      "☁️ Uploading input/052021.pdf\n",
      "☁️ Uploading input/042321.pdf\n",
      "☁️ Uploading input/042618.pdf\n",
      "☁️ Uploading input/022321.pdf\n",
      "☁️ Uploading input/022520.pdf\n",
      "☁️ Uploading input/082621.pdf\n",
      "☁️ Uploading input/080720.pdf\n",
      "☁️ Uploading input/072618.pdf\n",
      "☁️ Uploading input/090216.pdf\n",
      "☁️ Uploading input/070218.pdf\n",
      "☁️ Uploading input/081916.pdf\n",
      "☁️ Uploading input/082917.pdf\n",
      "☁️ Uploading input/092419.pdf\n",
      "☁️ Uploading input/051216.pdf\n",
      "☁️ Uploading input/101118.pdf\n",
      "☁️ Uploading input/072220.pdf\n",
      "☁️ Uploading input/042716.pdf\n",
      "☁️ Uploading input/083018.pdf\n",
      "☁️ Uploading input/080321.pdf\n",
      "☁️ Uploading input/091015.pdf\n",
      "☁️ Uploading input/012821.pdf\n",
      "☁️ Uploading input/090418.pdf\n",
      "☁️ Uploading input/092216.pdf\n",
      "☁️ Uploading input/080117.pdf\n",
      "☁️ Uploading input/050319.pdf\n",
      "☁️ Uploading input/112519.pdf\n",
      "☁️ Uploading input/050916.pdf\n",
      "☁️ Uploading input/081116.pdf\n",
      "☁️ Uploading input/021317.pdf\n",
      "☁️ Uploading input/040120.pdf\n",
      "☁️ Uploading input/033018.pdf\n",
      "☁️ Uploading input/022819.pdf\n",
      "☁️ Uploading input/073118.pdf\n",
      "☁️ Uploading input/061318.pdf\n",
      "☁️ Uploading input/081021.pdf\n",
      "☁️ Uploading input/012816.pdf\n"
     ]
    }
   ],
   "source": [
    "for p in output_dir.glob(\"*.pdf\"):\n",
    "    upload_pdf(f\"{p.stem}.pdf\")\n",
    "    time.sleep(0.25)"
   ]
  },
  {
   "cell_type": "code",
   "execution_count": null,
   "id": "f77d0786-4aff-4ee8-8da0-ca0da71b3ccb",
   "metadata": {},
   "outputs": [],
   "source": []
  }
 ],
 "metadata": {
  "kernelspec": {
   "display_name": "Python 3 (ipykernel)",
   "language": "python",
   "name": "python3"
  },
  "language_info": {
   "codemirror_mode": {
    "name": "ipython",
    "version": 3
   },
   "file_extension": ".py",
   "mimetype": "text/x-python",
   "name": "python",
   "nbconvert_exporter": "python",
   "pygments_lexer": "ipython3",
   "version": "3.9.2"
  }
 },
 "nbformat": 4,
 "nbformat_minor": 5
}
